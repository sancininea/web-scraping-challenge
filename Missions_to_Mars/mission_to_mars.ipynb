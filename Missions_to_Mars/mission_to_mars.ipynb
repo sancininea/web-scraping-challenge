{
 "cells": [
  {
   "cell_type": "markdown",
   "metadata": {},
   "source": [
    "# Web Scraping Homework - Mission to Mars\n",
    "\n",
    "## Step 1 - Scraping"
   ]
  },
  {
   "cell_type": "code",
   "execution_count": 1,
   "metadata": {},
   "outputs": [],
   "source": [
    "#####################################################################################\n",
    "#                                                                                   #\n",
    "# Import all the needed libraries                                                   #\n",
    "#                                                                                   #\n",
    "#####################################################################################\n",
    "\n",
    "from bs4 import BeautifulSoup as bs\n",
    "import requests\n",
    "import pandas as pd\n",
    "from splinter import Browser"
   ]
  },
  {
   "cell_type": "markdown",
   "metadata": {},
   "source": [
    "## NASA Mars News"
   ]
  },
  {
   "cell_type": "code",
   "execution_count": 3,
   "metadata": {},
   "outputs": [],
   "source": [
    "#####################################################################################\n",
    "#                                                                                   #\n",
    "# Scrape the NASA Mars News Site and collect the latest News Title and Paragraph    #\n",
    "# Text. Assign the text to variables that you can reference later.                  #\n",
    "#                                                                                   #\n",
    "#####################################################################################\n",
    "\n",
    "url = \"https://mars.nasa.gov/news/\"\n",
    "response = requests.get(url)\n",
    "soup = bs(response.text, 'html.parser')\n",
    "\n",
    "results = soup.find_all('div', class_='slide')\n",
    "\n",
    "news_title = []\n",
    "news_p = []\n",
    "\n",
    "for result in results:\n",
    "    news_title.append(result.find_all('div', class_='content_title')[0].find('a').text)\n",
    "    news_p.append(result.find_all('div', class_='rollover_description_inner')[0].text)"
   ]
  },
  {
   "cell_type": "markdown",
   "metadata": {},
   "source": [
    "## JPL Mars Space Images - Featured Image"
   ]
  },
  {
   "cell_type": "code",
   "execution_count": 4,
   "metadata": {},
   "outputs": [],
   "source": [
    "#####################################################################################\n",
    "#                                                                                   #\n",
    "# Visit the url for JPL Featured Space Image here.                                  #\n",
    "#                                                                                   #\n",
    "# Use splinter to navigate the site and find the image url for the current Featured #\n",
    "# Mars Image and assign the url string to a variable called featured_image_url.     #\n",
    "#                                                                                   #\n",
    "# Make sure to find the image url to the full size .jpg image.                      #\n",
    "#                                                                                   #\n",
    "# Make sure to save a complete url string for this image.                           #\n",
    "#                                                                                   #\n",
    "#####################################################################################\n",
    "\n",
    "executable_path = {'executable_path': '/drivers/chromedriver'}\n",
    "browser = Browser('chrome', **executable_path, headless=False)\n",
    "\n",
    "url = \"https://www.jpl.nasa.gov/spaceimages/?search=&category=Mars\"\n",
    "browser.visit(url)\n",
    "\n",
    "browser.click_link_by_partial_text('FULL IMAGE')\n",
    "browser.find_by_css('a[title=\"Display actual size\"]').click()\n",
    "featured_image_url = browser.find_by_css('img[class=\"fancybox-image\"]')['src']\n",
    "browser.quit()"
   ]
  },
  {
   "cell_type": "markdown",
   "metadata": {},
   "source": [
    "## Mars Weather"
   ]
  },
  {
   "cell_type": "code",
   "execution_count": 5,
   "metadata": {},
   "outputs": [],
   "source": [
    "#####################################################################################\n",
    "#                                                                                   #\n",
    "# Visit the Mars Weather twitter account here and scrape the latest Mars weather    #\n",
    "# tweet from the page. Save the tweet text for the weather report as a variable     #\n",
    "# called mars_weather.                                                              #\n",
    "#                                                                                   #\n",
    "#####################################################################################\n",
    "\n",
    "url='https://twitter.com/marswxreport?lang=en'\n",
    "response = requests.get(url)\n",
    "soup = bs(response.text, 'html.parser')\n",
    "\n",
    "results = soup.find_all('div', class_='js-tweet-text-container')\n",
    "\n",
    "mars_weather = []\n",
    "\n",
    "for result in results:\n",
    "    mars_weather.append(result.find_all('p', class_='TweetTextSize TweetTextSize--normal js-tweet-text tweet-text')[0].text)"
   ]
  },
  {
   "cell_type": "markdown",
   "metadata": {},
   "source": [
    "## Mars Facts"
   ]
  },
  {
   "cell_type": "code",
   "execution_count": 6,
   "metadata": {},
   "outputs": [
    {
     "data": {
      "text/plain": [
       "'<table border=\"1\" class=\"dataframe\">  <thead>    <tr style=\"text-align: right;\">      <th></th>      <th>Value</th>    </tr>    <tr>      <th>Fact</th>      <th></th>    </tr>  </thead>  <tbody>    <tr>      <th>Equatorial Diameter:</th>      <td>6,792 km</td>    </tr>    <tr>      <th>Polar Diameter:</th>      <td>6,752 km</td>    </tr>    <tr>      <th>Mass:</th>      <td>6.39 × 10^23 kg (0.11 Earths)</td>    </tr>    <tr>      <th>Moons:</th>      <td>2 (Phobos &amp; Deimos)</td>    </tr>    <tr>      <th>Orbit Distance:</th>      <td>227,943,824 km (1.38 AU)</td>    </tr>    <tr>      <th>Orbit Period:</th>      <td>687 days (1.9 years)</td>    </tr>    <tr>      <th>Surface Temperature:</th>      <td>-87 to -5 °C</td>    </tr>    <tr>      <th>First Record:</th>      <td>2nd millennium BC</td>    </tr>    <tr>      <th>Recorded By:</th>      <td>Egyptian astronomers</td>    </tr>  </tbody></table>'"
      ]
     },
     "execution_count": 6,
     "metadata": {},
     "output_type": "execute_result"
    }
   ],
   "source": [
    "#####################################################################################\n",
    "#                                                                                   #\n",
    "# Visit the Mars Facts webpage here and use Pandas to scrape the table containing   #\n",
    "# facts about the planet including Diameter, Mass, etc.                             #\n",
    "#                                                                                   #\n",
    "# Use Pandas to convert the data to a HTML table string.                            #\n",
    "#                                                                                   #\n",
    "#####################################################################################\n",
    "\n",
    "url = 'https://space-facts.com/mars/'\n",
    "tables = pd.read_html(url)\n",
    "\n",
    "df = tables[0]\n",
    "df.columns = [\"Fact\", \"Value\"]\n",
    "df.set_index('Fact', inplace=True)\n",
    "    \n",
    "html_table = df.to_html()\n",
    "html_table.replace('\\n', '')"
   ]
  },
  {
   "cell_type": "markdown",
   "metadata": {},
   "source": [
    "## Mars Hemispheres"
   ]
  },
  {
   "cell_type": "code",
   "execution_count": 5,
   "metadata": {},
   "outputs": [],
   "source": [
    "#####################################################################################\n",
    "#                                                                                   #\n",
    "# Visit the USGS Astrogeology site here to obtain high resolution images for each   #\n",
    "# of Mar's hemispheres.                                                             #\n",
    "#                                                                                   #\n",
    "# You will need to click each of the links to the hemispheres in order to find the  #\n",
    "# image url to the full resolution image.                                           #\n",
    "#                                                                                   #\n",
    "# Save both the image url string for the full resolution hemisphere image, and the  #\n",
    "# Hemisphere title containing the hemisphere name. Use a Python dictionary to store #\n",
    "# the data using the keys img_url and title.                                        #\n",
    "#                                                                                   #\n",
    "# Append the dictionary with the image url string and the hemisphere title to a list#\n",
    "# This list will contain one dictionary for each hemisphere.                        #\n",
    "#                                                                                   #\n",
    "#####################################################################################\n",
    "\n",
    "url = \"https://astrogeology.usgs.gov/search/results?q=hemisphere+enhanced&k1=target&v1=Mars\"\n",
    "response = requests.get(url)\n",
    "soup = bs(response.text, 'html.parser')\n",
    "\n",
    "results = soup.find_all('div', class_='item')\n",
    "\n",
    "hemis_title = []\n",
    "hemis_url = []\n",
    "\n",
    "for result in results:\n",
    "    hemis_title.append(result.find_all('div', class_='description')[0].find('h3').text)\n",
    "    \n",
    "executable_path = {'executable_path': '/drivers/chromedriver'}\n",
    "browser = Browser('chrome', **executable_path, headless=False)\n",
    "\n",
    "browser.visit(url)\n",
    "\n",
    "for hem in hemis_title:\n",
    "    browser.click_link_by_partial_text(hem)\n",
    "    response = requests.get(browser.url)\n",
    "    soup = bs(response.text, 'html.parser')\n",
    "    results = soup.find_all('li')\n",
    "    for result in results:\n",
    "        if result.find_all('a')[0].text == \"Sample\":\n",
    "            hemis_url.append(result.find_all('a')[0]['href'])\n",
    "    browser.back()\n",
    "    \n",
    "hemisphere_image_urls = []\n",
    "\n",
    "for x in range (0, 4):\n",
    "    myDict = {\"title\": hemis_title[x], \"img_url\": hemis_url[x]}\n",
    "    hemisphere_image_urls.append(myDict)\n",
    "browser.quit()"
   ]
  }
 ],
 "metadata": {
  "kernelspec": {
   "display_name": "Python 3",
   "language": "python",
   "name": "python3"
  },
  "language_info": {
   "codemirror_mode": {
    "name": "ipython",
    "version": 3
   },
   "file_extension": ".py",
   "mimetype": "text/x-python",
   "name": "python",
   "nbconvert_exporter": "python",
   "pygments_lexer": "ipython3",
   "version": "3.7.3"
  }
 },
 "nbformat": 4,
 "nbformat_minor": 2
}
